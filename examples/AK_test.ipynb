{
 "cells": [
  {
   "cell_type": "code",
   "execution_count": 1,
   "id": "3c21e7b5",
   "metadata": {},
   "outputs": [],
   "source": [
    "%matplotlib inline\n",
    "from copy import deepcopy\n",
    "from pam.read import read_matsim\n",
    "from pam.core import Population, Household, Person\n",
    "from pam.activity import Plan, Activity, Leg, PlanComponent\n",
    "from pam.utils import minutes_to_datetime as mtdt\n",
    "from pam.variables import END_OF_DAY"
   ]
  },
  {
   "cell_type": "code",
   "execution_count": 2,
   "id": "dbe617a9",
   "metadata": {},
   "outputs": [],
   "source": [
    "#test optimisation of basic hwh trip\n",
    "from matplotlib import pyplot as plt\n",
    "from pam.optimise.random import reschedule\n",
    "from pam.optimise.grid import grid_search"
   ]
  },
  {
   "cell_type": "code",
   "execution_count": 3,
   "id": "643a496e",
   "metadata": {},
   "outputs": [],
   "source": [
    "from pam.scoring import CharyparNagelPlanScorer\n",
    "\n",
    "default_config = {\n",
    "    'mUM': 1,\n",
    "    'utilityOfLineSwitch': -1,\n",
    "    'performing': 6,\n",
    "    'waiting': 0,\n",
    "    'waitingPt': -2,\n",
    "    'lateArrival': -18,\n",
    "    'earlyDeparture': -0,\n",
    "    'work': {\n",
    "        'typicalDuration': '08:30:00',\n",
    "        # 'openingTime': '06:00:00',\n",
    "        # 'closingTime': '20:00:00',\n",
    "        # 'latestStartTime': '09:30:00',\n",
    "        # 'earliestEndTime': '16:00:00',\n",
    "        \"minimalDuration\": \"08:00:00\"\n",
    "        },\n",
    "    'home': {\n",
    "        'typicalDuration': '12:00:00',\n",
    "        \"minimalDuration\": \"08:00:00\"\n",
    "        },\n",
    "    'shop': {\n",
    "        'typicalDuration': '00:30:00',\n",
    "        \"minimalDuration\": \"00:10:00\"\n",
    "        },\n",
    "    'education': {\n",
    "        'typicalDuration': '08:30:00',\n",
    "        \"minimalDuration\": \"06:00:00\"\n",
    "        },\n",
    "    'car': {\n",
    "        # 'constant': -0,\n",
    "        # 'dailyMonetaryConstant': -0,\n",
    "        # 'dailyUtilityConstant': -0,\n",
    "        # 'marginalUtilityOfDistance': -0,\n",
    "        'marginalUtilityOfTravelling': -5,\n",
    "        'monetaryDistanceRate': -0.0005\n",
    "        },\n",
    "    'pt': {\n",
    "        'marginalUtilityOfTravelling': -5,\n",
    "        'monetaryDistanceRate': -0.001\n",
    "        },\n",
    "    'bus': {\n",
    "        'marginalUtilityOfTravelling': -5,\n",
    "        'monetaryDistanceRate': -0.001\n",
    "        },\n",
    "    'train': {\n",
    "        'marginalUtilityOfTravelling': -5,\n",
    "        'monetaryDistanceRate': -0.001\n",
    "        },\n",
    "    'walk': {\n",
    "        'marginalUtilityOfTravelling': -12,\n",
    "        },\n",
    "    'bike': {\n",
    "        'marginalUtilityOfTravelling': -12,\n",
    "        }\n",
    "    }\n",
    "\n",
    "config = {subpop: default_config for subpop in [\n",
    "    \"default\", \"high income\", \"medium income\", \"low income\", \"freight\"\n",
    "    ]}\n",
    "\n",
    "scorer = CharyparNagelPlanScorer(cnfg=config)"
   ]
  },
  {
   "cell_type": "code",
   "execution_count": 4,
   "id": "c82c6e92",
   "metadata": {},
   "outputs": [
    {
     "data": {
      "text/plain": [
       "True"
      ]
     },
     "execution_count": 4,
     "metadata": {},
     "output_type": "execute_result"
    }
   ],
   "source": [
    "personA = Person('A', attributes={'age': 20, 'subpopulation': 'default'})\n",
    "\n",
    "personA.plan.day = [\n",
    "    Activity(act='home', area=1, start_time=mtdt(0), end_time=mtdt(1000)),\n",
    "    Leg(mode='car', start_area=1, end_area=2, start_time=mtdt(1000), end_time=mtdt(1100), distance=1000),\n",
    "    Activity(act='work', area=2, start_time=mtdt(1100), end_time=mtdt(1200)),\n",
    "    Leg(mode='car', start_area=2, end_area=1, start_time=mtdt(1200), end_time=mtdt(1300), distance=1000),\n",
    "    Activity(act='home', area=1, start_time=mtdt(1300), end_time=END_OF_DAY)\n",
    "]\n",
    "\n",
    "personA.validate()"
   ]
  },
  {
   "cell_type": "code",
   "execution_count": 5,
   "id": "47e00428",
   "metadata": {},
   "outputs": [
    {
     "name": "stdout",
     "output_type": "stream",
     "text": [
      "60.02156826508201\n"
     ]
    },
    {
     "data": {
      "image/png": "[encoded data removed]",
      "text/plain": [
       "<Figure size 1152x216 with 1 Axes>"
      ]
     },
     "metadata": {
      "needs_background": "light"
     },
     "output_type": "display_data"
    }
   ],
   "source": [
    "personA.plot()\n",
    "print(scorer.score_person(personA))"
   ]
  },
  {
   "cell_type": "code",
   "execution_count": 9,
   "id": "32ad0cf5",
   "metadata": {},
   "outputs": [
    {
     "name": "stdout",
     "output_type": "stream",
     "text": [
      "Initial best score at iteration 0: -34.13968450090408\n",
      "New best score at iteration 0: 87.18494528440392\n",
      "New best score at iteration 2: 96.92874808783088\n",
      "New best score at iteration 8: 103.28923611120935\n",
      "New best score at iteration 38: 103.46027652281514\n",
      "New best score at iteration 42: 103.73007764614313\n",
      "New best score at iteration 71: 103.95609111613717\n",
      "    iteration        d0        d1         d2       score\n",
      "0           1  3.308056  3.631111  13.727500   87.184945\n",
      "1           2  2.696667  3.131389  14.838611   81.715449\n",
      "2           3  1.511111  4.905556  14.250000   96.928748\n",
      "3           4  5.656944  2.418056  12.591667   71.213815\n",
      "4           5  1.170556  2.222778  17.273333   68.316418\n",
      "..        ...       ...       ...        ...         ...\n",
      "95         96  0.581944  6.210000  13.874722  102.734094\n",
      "96         97  4.450278  0.202222  16.014167   37.891878\n",
      "97         98  4.076111  4.187500  12.403056   92.064960\n",
      "98         99  1.590278  4.434444  14.641944   93.900077\n",
      "99        100  4.880000  2.138333  13.648333   67.060980\n",
      "\n",
      "[100 rows x 5 columns]\n"
     ]
    },
    {
     "name": "stderr",
     "output_type": "stream",
     "text": [
      "c:\\users\\alex.kaye\\pam\\pam\\optimise\\random.py:102: UserWarning:\n",
      "\n",
      "No contour levels were found within the data range.\n",
      "\n"
     ]
    },
    {
     "data": {
      "image/png": "[encoded data removed]",
      "text/plain": [
       "<Figure size 936x720 with 2 Axes>"
      ]
     },
     "metadata": {
      "needs_background": "light"
     },
     "output_type": "display_data"
    },
    {
     "data": {
      "application/vnd.plotly.v1+json": {
       "config": {
        "plotlyServerURL": "https://plot.ly"
       },
       "data": [
        {
         "hovertemplate": "d0=%{x}<br>d1=%{y}<br>d2=%{z}<br>score=%{marker.color}<extra></extra>",
         "legendgroup": "",
         "marker": {
          "color": [
           87.18494528440392,
           81.71544906649537,
           96.92874808783088,
           71.21381461847285,
           68.31641833522546,
           64.16450481452489,
           73.21614879863753,
           88.94575024449772,
           103.28923611120935,
           99.76139535111975,
           67.11056555259131,
           47.88073941368249,
           100.1226985077891,
           102.37408017301671,
           97.82490848704236,
           84.49250234183657,
           85.7574036616043,
           78.65164253491035,
           49.77852936644288,
           64.78169639963703,
           67.48651076125736,
           42.7060744565123,
           101.41533471137151,
           52.695046700792275,
           38.861188766818984,
           42.41071278283515,
           76.14862713066032,
           94.57548540827462,
           95.03315121362634,
           91.04291578852977,
           101.0879230135799,
           100.66595236166486,
           63.766664699910706,
           64.47935800682963,
           95.48539591648226,
           101.5425734710236,
           46.58168919298495,
           57.0106216115139,
           103.46027652281514,
           93.37215193483392,
           56.05529645600724,
           67.924255446639,
           103.73007764614313,
           43.39358510716441,
           66.74275320205894,
           49.83726387746924,
           81.90091063283543,
           89.03642608741542,
           73.6842898120167,
           100.17963453072663,
           93.95102886735229,
           103.66534758371058,
           44.38835161547169,
           35.921490646834556,
           92.3791018810981,
           100.48106576093953,
           79.17839986703743,
           103.3468693474481,
           101.10917640114245,
           94.38386948331221,
           96.02177590778926,
           67.22625529681903,
           96.76264644523307,
           37.78601574199031,
           93.05803745174012,
           95.55302272635316,
           86.47056088520448,
           82.55824633009367,
           71.41957633434738,
           97.5074185034199,
           54.61039195350283,
           103.95609111613717,
           90.86620158093699,
           88.6816831283942,
           98.52799237207846,
           69.84650195361704,
           39.762146590928154,
           88.30300608207419,
           95.81190343955974,
           98.29798229727434,
           84.5624473574128,
           67.20146570632788,
           91.29270565940932,
           39.5380213868564,
           84.56548407884512,
           103.87864415912169,
           100.00659865183101,
           98.71710811889992,
           95.77343375318667,
           41.73534926491983,
           89.01882398274127,
           77.00415030798776,
           97.27413132696103,
           57.390029523373784,
           96.26271987853757,
           102.73409408440214,
           37.89187790171131,
           92.06495985890086,
           93.90007672042374,
           67.06098034773508
          ],
          "coloraxis": "coloraxis",
          "symbol": "circle"
         },
         "mode": "markers",
         "name": "",
         "scene": "scene",
         "showlegend": false,
         "type": "scatter3d",
         "x": [
          3.3080555555555557,
          2.6966666666666668,
          1.511111111111111,
          5.656944444444444,
          1.1705555555555556,
          3.4008333333333334,
          1.5505555555555555,
          0.5563888888888889,
          6.6738888888888885,
          3.218611111111111,
          1.1030555555555555,
          5.5713888888888885,
          4.643611111111111,
          0.8591666666666666,
          1.2983333333333333,
          5.981944444444444,
          5.953611111111111,
          5.588055555555556,
          2.0213888888888887,
          2.2683333333333335,
          4.2972222222222225,
          6.455555555555556,
          5.818888888888889,
          5.073055555555555,
          4.0938888888888885,
          4.430833333333333,
          6.502777777777778,
          5.803333333333334,
          3.924722222222222,
          5.264722222222222,
          0.20972222222222223,
          5.546111111111111,
          2.7344444444444442,
          2.113888888888889,
          6.354444444444445,
          6.621944444444445,
          3.0044444444444443,
          1.1566666666666667,
          5.165555555555556,
          1.606111111111111,
          0.8138888888888889,
          4.102222222222222,
          3.9322222222222223,
          2.39,
          3.9066666666666667,
          0.4058333333333333,
          5.131666666666667,
          6.430833333333333,
          2.1555555555555554,
          3.311111111111111,
          3.316388888888889,
          4.9525,
          0.9925,
          5.761388888888889,
          6.435,
          2.5841666666666665,
          4.138055555555556,
          3.5716666666666668,
          2.5405555555555557,
          1.7238888888888888,
          1.4761111111111112,
          6.8613888888888885,
          6.253888888888889,
          3.4769444444444444,
          1.9827777777777778,
          5.547777777777778,
          3.511388888888889,
          4.6497222222222225,
          5.975,
          3.8377777777777777,
          2.308333333333333,
          2.567222222222222,
          2.8697222222222223,
          6.158055555555555,
          3.278611111111111,
          1.7725,
          4.176944444444445,
          6.175,
          2.288611111111111,
          5.0725,
          4.623888888888889,
          2.125277777777778,
          4.970277777777778,
          5.037222222222222,
          0.63,
          3.0194444444444444,
          3.089166666666667,
          5.063611111111111,
          1.3402777777777777,
          6.864444444444445,
          4.297777777777778,
          0.5138888888888888,
          4.635,
          3.1997222222222224,
          5.721388888888889,
          0.5819444444444445,
          4.450277777777778,
          4.0761111111111115,
          1.5902777777777777,
          4.88
         ],
         "y": [
          3.631111111111111,
          3.131388888888889,
          4.905555555555556,
          2.4180555555555556,
          2.222777777777778,
          1.943888888888889,
          2.5533333333333332,
          3.8175,
          6.39,
          5.449166666666667,
          2.1416666666666666,
          0.86,
          5.528611111111111,
          6.101666666666667,
          5.064444444444445,
          3.3716666666666666,
          3.49,
          2.9219444444444442,
          0.9855555555555555,
          1.9852777777777777,
          2.1669444444444443,
          0.5186111111111111,
          5.838611111111111,
          1.1788888888888889,
          0.2658333333333333,
          0.49916666666666665,
          2.7519444444444443,
          4.531944444444444,
          4.6002777777777775,
          4.06,
          5.755833333333333,
          5.653611111111111,
          1.9172222222222222,
          1.965,
          4.669722222222222,
          5.871666666666667,
          0.7741666666666667,
          1.4658333333333333,
          6.449166666666667,
          4.360833333333333,
          1.4022222222222223,
          2.196388888888889,
          6.546666666666667,
          0.5638888888888889,
          2.1169444444444445,
          0.9894444444444445,
          3.1466666666666665,
          3.8275,
          2.585,
          5.541388888888889,
          4.441666666666666,
          6.522777777777778,
          0.6294444444444445,
          0.07305555555555555,
          4.228055555555556,
          5.610277777777778,
          2.957777777777778,
          6.409722222222222,
          5.761111111111111,
          4.503888888888889,
          4.754722222222222,
          2.1494444444444443,
          4.877222222222223,
          0.19527777777777777,
          4.3180555555555555,
          4.6802777777777775,
          3.5594444444444444,
          3.2016666666666667,
          2.4319444444444445,
          5.006944444444445,
          1.306111111111111,
          6.632777777777778,
          4.038611111111111,
          3.788611111111111,
          5.196944444444444,
          2.325833333333333,
          0.325,
          3.747777777777778,
          4.721111111111111,
          5.152777777777778,
          3.3780555555555556,
          2.147777777777778,
          4.0905555555555555,
          0.31027777777777776,
          3.3783333333333334,
          6.602777777777778,
          5.502777777777778,
          5.233888888888889,
          4.715,
          0.45472222222222225,
          3.8255555555555554,
          2.81,
          4.9655555555555555,
          1.491111111111111,
          4.793888888888889,
          6.21,
          0.20222222222222222,
          4.1875,
          4.434444444444445,
          2.138333333333333
         ],
         "z": [
          13.7275,
          14.838611111111112,
          14.25,
          12.591666666666667,
          17.273333333333333,
          15.321944444444444,
          16.56277777777778,
          16.29277777777778,
          7.602777777777778,
          11.998888888888889,
          17.421944444444446,
          14.235277777777778,
          10.494444444444444,
          13.705833333333333,
          14.303888888888888,
          11.313055555555556,
          11.223055555555556,
          12.156666666666666,
          17.65972222222222,
          16.413055555555555,
          14.2025,
          13.6925,
          9.009166666666667,
          14.414722222222222,
          16.306944444444444,
          15.736666666666666,
          11.411944444444444,
          10.331388888888888,
          12.141666666666667,
          11.341944444444444,
          14.70111111111111,
          9.466944444444444,
          16.015,
          16.587777777777777,
          9.6425,
          8.173055555555555,
          16.888055555555557,
          18.044166666666666,
          9.051944444444445,
          14.699722222222222,
          18.450555555555557,
          14.368055555555555,
          10.187777777777777,
          17.712777777777777,
          14.643055555555556,
          19.27138888888889,
          12.388333333333334,
          10.408333333333333,
          15.926111111111112,
          11.814166666666667,
          12.908611111111112,
          9.19138888888889,
          19.044722222222223,
          14.832222222222223,
          10.00361111111111,
          12.472222222222221,
          13.570833333333333,
          10.685277777777777,
          12.365,
          14.438888888888888,
          14.435833333333333,
          11.655833333333334,
          9.535555555555556,
          16.994444444444444,
          14.365833333333333,
          10.438611111111111,
          13.595833333333333,
          12.815277777777778,
          12.259722222222223,
          11.821944444444444,
          17.052222222222223,
          11.466666666666667,
          13.758333333333333,
          10.72,
          12.19111111111111,
          16.56833333333333,
          16.164722222222224,
          10.74388888888889,
          13.656944444444445,
          10.44138888888889,
          12.664722222222222,
          16.39361111111111,
          11.605833333333333,
          15.319166666666666,
          16.658333333333335,
          11.044444444444444,
          12.074722222222222,
          10.369166666666667,
          14.61138888888889,
          13.3475,
          12.543333333333333,
          17.342777777777776,
          11.06611111111111,
          15.975833333333334,
          10.151388888888889,
          13.874722222222223,
          16.014166666666668,
          12.403055555555556,
          14.641944444444444,
          13.648333333333333
         ]
        }
       ],
       "layout": {
        "coloraxis": {
         "colorbar": {
          "title": {
           "text": "score"
          }
         },
         "colorscale": [
          [
           0,
           "#0d0887"
          ],
          [
           0.1111111111111111,
           "#46039f"
          ],
          [
           0.2222222222222222,
           "#7201a8"
          ],
          [
           0.3333333333333333,
           "#9c179e"
          ],
          [
           0.4444444444444444,
           "#bd3786"
          ],
          [
           0.5555555555555556,
           "#d8576b"
          ],
          [
           0.6666666666666666,
           "#ed7953"
          ],
          [
           0.7777777777777778,
           "#fb9f3a"
          ],
          [
           0.8888888888888888,
           "#fdca26"
          ],
          [
           1,
           "#f0f921"
          ]
         ]
        },
        "legend": {
         "tracegroupgap": 0
        },
        "margin": {
         "b": 10,
         "l": 10,
         "r": 20,
         "t": 10
        },
        "scene": {
         "domain": {
          "x": [
           0,
           1
          ],
          "y": [
           0,
           1
          ]
         },
         "xaxis": {
          "range": [
           0,
           25
          ],
          "title": {
           "text": "d0"
          }
         },
         "yaxis": {
          "range": [
           0,
           25
          ],
          "title": {
           "text": "d1"
          }
         },
         "zaxis": {
          "range": [
           0,
           25
          ],
          "title": {
           "text": "d2"
          }
         }
        },
        "template": {
         "data": {
          "bar": [
           {
            "error_x": {
             "color": "#2a3f5f"
            },
            "error_y": {
             "color": "#2a3f5f"
            },
            "marker": {
             "line": {
              "color": "#E5ECF6",
              "width": 0.5
             }
            },
            "type": "bar"
           }
          ],
          "barpolar": [
           {
            "marker": {
             "line": {
              "color": "#E5ECF6",
              "width": 0.5
             }
            },
            "type": "barpolar"
           }
          ],
          "carpet": [
           {
            "aaxis": {
             "endlinecolor": "#2a3f5f",
             "gridcolor": "white",
             "linecolor": "white",
             "minorgridcolor": "white",
             "startlinecolor": "#2a3f5f"
            },
            "baxis": {
             "endlinecolor": "#2a3f5f",
             "gridcolor": "white",
             "linecolor": "white",
             "minorgridcolor": "white",
             "startlinecolor": "#2a3f5f"
            },
            "type": "carpet"
           }
          ],
          "choropleth": [
           {
            "colorbar": {
             "outlinewidth": 0,
             "ticks": ""
            },
            "type": "choropleth"
           }
          ],
          "contour": [
           {
            "colorbar": {
             "outlinewidth": 0,
             "ticks": ""
            },
            "colorscale": [
             [
              0,
              "#0d0887"
             ],
             [
              0.1111111111111111,
              "#46039f"
             ],
             [
              0.2222222222222222,
              "#7201a8"
             ],
             [
              0.3333333333333333,
              "#9c179e"
             ],
             [
              0.4444444444444444,
              "#bd3786"
             ],
             [
              0.5555555555555556,
              "#d8576b"
             ],
             [
              0.6666666666666666,
              "#ed7953"
             ],
             [
              0.7777777777777778,
              "#fb9f3a"
             ],
             [
              0.8888888888888888,
              "#fdca26"
             ],
             [
              1,
              "#f0f921"
             ]
            ],
            "type": "contour"
           }
          ],
          "contourcarpet": [
           {
            "colorbar": {
             "outlinewidth": 0,
             "ticks": ""
            },
            "type": "contourcarpet"
           }
          ],
          "heatmap": [
           {
            "colorbar": {
             "outlinewidth": 0,
             "ticks": ""
            },
            "colorscale": [
             [
              0,
              "#0d0887"
             ],
             [
              0.1111111111111111,
              "#46039f"
             ],
             [
              0.2222222222222222,
              "#7201a8"
             ],
             [
              0.3333333333333333,
              "#9c179e"
             ],
             [
              0.4444444444444444,
              "#bd3786"
             ],
             [
              0.5555555555555556,
              "#d8576b"
             ],
             [
              0.6666666666666666,
              "#ed7953"
             ],
             [
              0.7777777777777778,
              "#fb9f3a"
             ],
             [
              0.8888888888888888,
              "#fdca26"
             ],
             [
              1,
              "#f0f921"
             ]
            ],
            "type": "heatmap"
           }
          ],
          "heatmapgl": [
           {
            "colorbar": {
             "outlinewidth": 0,
             "ticks": ""
            },
            "colorscale": [
             [
              0,
              "#0d0887"
             ],
             [
              0.1111111111111111,
              "#46039f"
             ],
             [
              0.2222222222222222,
              "#7201a8"
             ],
             [
              0.3333333333333333,
              "#9c179e"
             ],
             [
              0.4444444444444444,
              "#bd3786"
             ],
             [
              0.5555555555555556,
              "#d8576b"
             ],
             [
              0.6666666666666666,
              "#ed7953"
             ],
             [
              0.7777777777777778,
              "#fb9f3a"
             ],
             [
              0.8888888888888888,
              "#fdca26"
             ],
             [
              1,
              "#f0f921"
             ]
            ],
            "type": "heatmapgl"
           }
          ],
          "histogram": [
           {
            "marker": {
             "colorbar": {
              "outlinewidth": 0,
              "ticks": ""
             }
            },
            "type": "histogram"
           }
          ],
          "histogram2d": [
           {
            "colorbar": {
             "outlinewidth": 0,
             "ticks": ""
            },
            "colorscale": [
             [
              0,
              "#0d0887"
             ],
             [
              0.1111111111111111,
              "#46039f"
             ],
             [
              0.2222222222222222,
              "#7201a8"
             ],
             [
              0.3333333333333333,
              "#9c179e"
             ],
             [
              0.4444444444444444,
              "#bd3786"
             ],
             [
              0.5555555555555556,
              "#d8576b"
             ],
             [
              0.6666666666666666,
              "#ed7953"
             ],
             [
              0.7777777777777778,
              "#fb9f3a"
             ],
             [
              0.8888888888888888,
              "#fdca26"
             ],
             [
              1,
              "#f0f921"
             ]
            ],
            "type": "histogram2d"
           }
          ],
          "histogram2dcontour": [
           {
            "colorbar": {
             "outlinewidth": 0,
             "ticks": ""
            },
            "colorscale": [
             [
              0,
              "#0d0887"
             ],
             [
              0.1111111111111111,
              "#46039f"
             ],
             [
              0.2222222222222222,
              "#7201a8"
             ],
             [
              0.3333333333333333,
              "#9c179e"
             ],
             [
              0.4444444444444444,
              "#bd3786"
             ],
             [
              0.5555555555555556,
              "#d8576b"
             ],
             [
              0.6666666666666666,
              "#ed7953"
             ],
             [
              0.7777777777777778,
              "#fb9f3a"
             ],
             [
              0.8888888888888888,
              "#fdca26"
             ],
             [
              1,
              "#f0f921"
             ]
            ],
            "type": "histogram2dcontour"
           }
          ],
          "mesh3d": [
           {
            "colorbar": {
             "outlinewidth": 0,
             "ticks": ""
            },
            "type": "mesh3d"
           }
          ],
          "parcoords": [
           {
            "line": {
             "colorbar": {
              "outlinewidth": 0,
              "ticks": ""
             }
            },
            "type": "parcoords"
           }
          ],
          "pie": [
           {
            "automargin": true,
            "type": "pie"
           }
          ],
          "scatter": [
           {
            "marker": {
             "colorbar": {
              "outlinewidth": 0,
              "ticks": ""
             }
            },
            "type": "scatter"
           }
          ],
          "scatter3d": [
           {
            "line": {
             "colorbar": {
              "outlinewidth": 0,
              "ticks": ""
             }
            },
            "marker": {
             "colorbar": {
              "outlinewidth": 0,
              "ticks": ""
             }
            },
            "type": "scatter3d"
           }
          ],
          "scattercarpet": [
           {
            "marker": {
             "colorbar": {
              "outlinewidth": 0,
              "ticks": ""
             }
            },
            "type": "scattercarpet"
           }
          ],
          "scattergeo": [
           {
            "marker": {
             "colorbar": {
              "outlinewidth": 0,
              "ticks": ""
             }
            },
            "type": "scattergeo"
           }
          ],
          "scattergl": [
           {
            "marker": {
             "colorbar": {
              "outlinewidth": 0,
              "ticks": ""
             }
            },
            "type": "scattergl"
           }
          ],
          "scattermapbox": [
           {
            "marker": {
             "colorbar": {
              "outlinewidth": 0,
              "ticks": ""
             }
            },
            "type": "scattermapbox"
           }
          ],
          "scatterpolar": [
           {
            "marker": {
             "colorbar": {
              "outlinewidth": 0,
              "ticks": ""
             }
            },
            "type": "scatterpolar"
           }
          ],
          "scatterpolargl": [
           {
            "marker": {
             "colorbar": {
              "outlinewidth": 0,
              "ticks": ""
             }
            },
            "type": "scatterpolargl"
           }
          ],
          "scatterternary": [
           {
            "marker": {
             "colorbar": {
              "outlinewidth": 0,
              "ticks": ""
             }
            },
            "type": "scatterternary"
           }
          ],
          "surface": [
           {
            "colorbar": {
             "outlinewidth": 0,
             "ticks": ""
            },
            "colorscale": [
             [
              0,
              "#0d0887"
             ],
             [
              0.1111111111111111,
              "#46039f"
             ],
             [
              0.2222222222222222,
              "#7201a8"
             ],
             [
              0.3333333333333333,
              "#9c179e"
             ],
             [
              0.4444444444444444,
              "#bd3786"
             ],
             [
              0.5555555555555556,
              "#d8576b"
             ],
             [
              0.6666666666666666,
              "#ed7953"
             ],
             [
              0.7777777777777778,
              "#fb9f3a"
             ],
             [
              0.8888888888888888,
              "#fdca26"
             ],
             [
              1,
              "#f0f921"
             ]
            ],
            "type": "surface"
           }
          ],
          "table": [
           {
            "cells": {
             "fill": {
              "color": "#EBF0F8"
             },
             "line": {
              "color": "white"
             }
            },
            "header": {
             "fill": {
              "color": "#C8D4E3"
             },
             "line": {
              "color": "white"
             }
            },
            "type": "table"
           }
          ]
         },
         "layout": {
          "annotationdefaults": {
           "arrowcolor": "#2a3f5f",
           "arrowhead": 0,
           "arrowwidth": 1
          },
          "coloraxis": {
           "colorbar": {
            "outlinewidth": 0,
            "ticks": ""
           }
          },
          "colorscale": {
           "diverging": [
            [
             0,
             "#8e0152"
            ],
            [
             0.1,
             "#c51b7d"
            ],
            [
             0.2,
             "#de77ae"
            ],
            [
             0.3,
             "#f1b6da"
            ],
            [
             0.4,
             "#fde0ef"
            ],
            [
             0.5,
             "#f7f7f7"
            ],
            [
             0.6,
             "#e6f5d0"
            ],
            [
             0.7,
             "#b8e186"
            ],
            [
             0.8,
             "#7fbc41"
            ],
            [
             0.9,
             "#4d9221"
            ],
            [
             1,
             "#276419"
            ]
           ],
           "sequential": [
            [
             0,
             "#0d0887"
            ],
            [
             0.1111111111111111,
             "#46039f"
            ],
            [
             0.2222222222222222,
             "#7201a8"
            ],
            [
             0.3333333333333333,
             "#9c179e"
            ],
            [
             0.4444444444444444,
             "#bd3786"
            ],
            [
             0.5555555555555556,
             "#d8576b"
            ],
            [
             0.6666666666666666,
             "#ed7953"
            ],
            [
             0.7777777777777778,
             "#fb9f3a"
            ],
            [
             0.8888888888888888,
             "#fdca26"
            ],
            [
             1,
             "#f0f921"
            ]
           ],
           "sequentialminus": [
            [
             0,
             "#0d0887"
            ],
            [
             0.1111111111111111,
             "#46039f"
            ],
            [
             0.2222222222222222,
             "#7201a8"
            ],
            [
             0.3333333333333333,
             "#9c179e"
            ],
            [
             0.4444444444444444,
             "#bd3786"
            ],
            [
             0.5555555555555556,
             "#d8576b"
            ],
            [
             0.6666666666666666,
             "#ed7953"
            ],
            [
             0.7777777777777778,
             "#fb9f3a"
            ],
            [
             0.8888888888888888,
             "#fdca26"
            ],
            [
             1,
             "#f0f921"
            ]
           ]
          },
          "colorway": [
           "#636efa",
           "#EF553B",
           "#00cc96",
           "#ab63fa",
           "#FFA15A",
           "#19d3f3",
           "#FF6692",
           "#B6E880",
           "#FF97FF",
           "#FECB52"
          ],
          "font": {
           "color": "#2a3f5f"
          },
          "geo": {
           "bgcolor": "white",
           "lakecolor": "white",
           "landcolor": "#E5ECF6",
           "showlakes": true,
           "showland": true,
           "subunitcolor": "white"
          },
          "hoverlabel": {
           "align": "left"
          },
          "hovermode": "closest",
          "mapbox": {
           "style": "light"
          },
          "paper_bgcolor": "white",
          "plot_bgcolor": "#E5ECF6",
          "polar": {
           "angularaxis": {
            "gridcolor": "white",
            "linecolor": "white",
            "ticks": ""
           },
           "bgcolor": "#E5ECF6",
           "radialaxis": {
            "gridcolor": "white",
            "linecolor": "white",
            "ticks": ""
           }
          },
          "scene": {
           "xaxis": {
            "backgroundcolor": "#E5ECF6",
            "gridcolor": "white",
            "gridwidth": 2,
            "linecolor": "white",
            "showbackground": true,
            "ticks": "",
            "zerolinecolor": "white"
           },
           "yaxis": {
            "backgroundcolor": "#E5ECF6",
            "gridcolor": "white",
            "gridwidth": 2,
            "linecolor": "white",
            "showbackground": true,
            "ticks": "",
            "zerolinecolor": "white"
           },
           "zaxis": {
            "backgroundcolor": "#E5ECF6",
            "gridcolor": "white",
            "gridwidth": 2,
            "linecolor": "white",
            "showbackground": true,
            "ticks": "",
            "zerolinecolor": "white"
           }
          },
          "shapedefaults": {
           "line": {
            "color": "#2a3f5f"
           }
          },
          "ternary": {
           "aaxis": {
            "gridcolor": "white",
            "linecolor": "white",
            "ticks": ""
           },
           "baxis": {
            "gridcolor": "white",
            "linecolor": "white",
            "ticks": ""
           },
           "bgcolor": "#E5ECF6",
           "caxis": {
            "gridcolor": "white",
            "linecolor": "white",
            "ticks": ""
           }
          },
          "title": {
           "x": 0.05
          },
          "xaxis": {
           "automargin": true,
           "gridcolor": "white",
           "linecolor": "white",
           "ticks": "",
           "title": {
            "standoff": 15
           },
           "zerolinecolor": "white",
           "zerolinewidth": 2
          },
          "yaxis": {
           "automargin": true,
           "gridcolor": "white",
           "linecolor": "white",
           "ticks": "",
           "title": {
            "standoff": 15
           },
           "zerolinecolor": "white",
           "zerolinewidth": 2
          }
         }
        },
        "width": 700
       }
      },
      "text/html": [
       "<div>                            <div id=\"4a50293a-a45a-48f3-aeb2-ad0089ed0eda\" class=\"plotly-graph-div\" style=\"height:525px; width:700px;\"></div>            <script type=\"text/javascript\">                require([\"plotly\"], function(Plotly) {                    window.PLOTLYENV=window.PLOTLYENV || {};                                    if (document.getElementById(\"4a50293a-a45a-48f3-aeb2-ad0089ed0eda\")) {                    Plotly.newPlot(                        \"4a50293a-a45a-48f3-aeb2-ad0089ed0eda\",                        [{\"hovertemplate\": \"d0=%{x}<br>d1=%{y}<br>d2=%{z}<br>score=%{marker.color}<extra></extra>\", \"legendgroup\": \"\", \"marker\": {\"color\": [87.18494528440392, 81.71544906649537, 96.92874808783088, 71.21381461847285, 68.31641833522546, 64.16450481452489, 73.21614879863753, 88.94575024449772, 103.28923611120935, 99.76139535111975, 67.11056555259131, 47.88073941368249, 100.1226985077891, 102.37408017301671, 97.82490848704236, 84.49250234183657, 85.7574036616043, 78.65164253491035, 49.77852936644288, 64.78169639963703, 67.48651076125736, 42.7060744565123, 101.41533471137151, 52.695046700792275, 38.861188766818984, 42.41071278283515, 76.14862713066032, 94.57548540827462, 95.03315121362634, 91.04291578852977, 101.0879230135799, 100.66595236166486, 63.766664699910706, 64.47935800682963, 95.48539591648226, 101.5425734710236, 46.58168919298495, 57.0106216115139, 103.46027652281514, 93.37215193483392, 56.05529645600724, 67.924255446639, 103.73007764614313, 43.39358510716441, 66.74275320205894, 49.83726387746924, 81.90091063283543, 89.03642608741542, 73.6842898120167, 100.17963453072663, 93.95102886735229, 103.66534758371058, 44.38835161547169, 35.921490646834556, 92.3791018810981, 100.48106576093953, 79.17839986703743, 103.3468693474481, 101.10917640114245, 94.38386948331221, 96.02177590778926, 67.22625529681903, 96.76264644523307, 37.78601574199031, 93.05803745174012, 95.55302272635316, 86.47056088520448, 82.55824633009367, 71.41957633434738, 97.5074185034199, 54.61039195350283, 103.95609111613717, 90.86620158093699, 88.6816831283942, 98.52799237207846, 69.84650195361704, 39.762146590928154, 88.30300608207419, 95.81190343955974, 98.29798229727434, 84.5624473574128, 67.20146570632788, 91.29270565940932, 39.5380213868564, 84.56548407884512, 103.87864415912169, 100.00659865183101, 98.71710811889992, 95.77343375318667, 41.73534926491983, 89.01882398274127, 77.00415030798776, 97.27413132696103, 57.390029523373784, 96.26271987853757, 102.73409408440214, 37.89187790171131, 92.06495985890086, 93.90007672042374, 67.06098034773508], \"coloraxis\": \"coloraxis\", \"symbol\": \"circle\"}, \"mode\": \"markers\", \"name\": \"\", \"scene\": \"scene\", \"showlegend\": false, \"type\": \"scatter3d\", \"x\": [3.3080555555555557, 2.6966666666666668, 1.511111111111111, 5.656944444444444, 1.1705555555555556, 3.4008333333333334, 1.5505555555555555, 0.5563888888888889, 6.6738888888888885, 3.218611111111111, 1.1030555555555555, 5.5713888888888885, 4.643611111111111, 0.8591666666666666, 1.2983333333333333, 5.981944444444444, 5.953611111111111, 5.588055555555556, 2.0213888888888887, 2.2683333333333335, 4.2972222222222225, 6.455555555555556, 5.818888888888889, 5.073055555555555, 4.0938888888888885, 4.430833333333333, 6.502777777777778, 5.803333333333334, 3.924722222222222, 5.264722222222222, 0.20972222222222223, 5.546111111111111, 2.7344444444444442, 2.113888888888889, 6.354444444444445, 6.621944444444445, 3.0044444444444443, 1.1566666666666667, 5.165555555555556, 1.606111111111111, 0.8138888888888889, 4.102222222222222, 3.9322222222222223, 2.39, 3.9066666666666667, 0.4058333333333333, 5.131666666666667, 6.430833333333333, 2.1555555555555554, 3.311111111111111, 3.316388888888889, 4.9525, 0.9925, 5.761388888888889, 6.435, 2.5841666666666665, 4.138055555555556, 3.5716666666666668, 2.5405555555555557, 1.7238888888888888, 1.4761111111111112, 6.8613888888888885, 6.253888888888889, 3.4769444444444444, 1.9827777777777778, 5.547777777777778, 3.511388888888889, 4.6497222222222225, 5.975, 3.8377777777777777, 2.308333333333333, 2.567222222222222, 2.8697222222222223, 6.158055555555555, 3.278611111111111, 1.7725, 4.176944444444445, 6.175, 2.288611111111111, 5.0725, 4.623888888888889, 2.125277777777778, 4.970277777777778, 5.037222222222222, 0.63, 3.0194444444444444, 3.089166666666667, 5.063611111111111, 1.3402777777777777, 6.864444444444445, 4.297777777777778, 0.5138888888888888, 4.635, 3.1997222222222224, 5.721388888888889, 0.5819444444444445, 4.450277777777778, 4.0761111111111115, 1.5902777777777777, 4.88], \"y\": [3.631111111111111, 3.131388888888889, 4.905555555555556, 2.4180555555555556, 2.222777777777778, 1.943888888888889, 2.5533333333333332, 3.8175, 6.39, 5.449166666666667, 2.1416666666666666, 0.86, 5.528611111111111, 6.101666666666667, 5.064444444444445, 3.3716666666666666, 3.49, 2.9219444444444442, 0.9855555555555555, 1.9852777777777777, 2.1669444444444443, 0.5186111111111111, 5.838611111111111, 1.1788888888888889, 0.2658333333333333, 0.49916666666666665, 2.7519444444444443, 4.531944444444444, 4.6002777777777775, 4.06, 5.755833333333333, 5.653611111111111, 1.9172222222222222, 1.965, 4.669722222222222, 5.871666666666667, 0.7741666666666667, 1.4658333333333333, 6.449166666666667, 4.360833333333333, 1.4022222222222223, 2.196388888888889, 6.546666666666667, 0.5638888888888889, 2.1169444444444445, 0.9894444444444445, 3.1466666666666665, 3.8275, 2.585, 5.541388888888889, 4.441666666666666, 6.522777777777778, 0.6294444444444445, 0.07305555555555555, 4.228055555555556, 5.610277777777778, 2.957777777777778, 6.409722222222222, 5.761111111111111, 4.503888888888889, 4.754722222222222, 2.1494444444444443, 4.877222222222223, 0.19527777777777777, 4.3180555555555555, 4.6802777777777775, 3.5594444444444444, 3.2016666666666667, 2.4319444444444445, 5.006944444444445, 1.306111111111111, 6.632777777777778, 4.038611111111111, 3.788611111111111, 5.196944444444444, 2.325833333333333, 0.325, 3.747777777777778, 4.721111111111111, 5.152777777777778, 3.3780555555555556, 2.147777777777778, 4.0905555555555555, 0.31027777777777776, 3.3783333333333334, 6.602777777777778, 5.502777777777778, 5.233888888888889, 4.715, 0.45472222222222225, 3.8255555555555554, 2.81, 4.9655555555555555, 1.491111111111111, 4.793888888888889, 6.21, 0.20222222222222222, 4.1875, 4.434444444444445, 2.138333333333333], \"z\": [13.7275, 14.838611111111112, 14.25, 12.591666666666667, 17.273333333333333, 15.321944444444444, 16.56277777777778, 16.29277777777778, 7.602777777777778, 11.998888888888889, 17.421944444444446, 14.235277777777778, 10.494444444444444, 13.705833333333333, 14.303888888888888, 11.313055555555556, 11.223055555555556, 12.156666666666666, 17.65972222222222, 16.413055555555555, 14.2025, 13.6925, 9.009166666666667, 14.414722222222222, 16.306944444444444, 15.736666666666666, 11.411944444444444, 10.331388888888888, 12.141666666666667, 11.341944444444444, 14.70111111111111, 9.466944444444444, 16.015, 16.587777777777777, 9.6425, 8.173055555555555, 16.888055555555557, 18.044166666666666, 9.051944444444445, 14.699722222222222, 18.450555555555557, 14.368055555555555, 10.187777777777777, 17.712777777777777, 14.643055555555556, 19.27138888888889, 12.388333333333334, 10.408333333333333, 15.926111111111112, 11.814166666666667, 12.908611111111112, 9.19138888888889, 19.044722222222223, 14.832222222222223, 10.00361111111111, 12.472222222222221, 13.570833333333333, 10.685277777777777, 12.365, 14.438888888888888, 14.435833333333333, 11.655833333333334, 9.535555555555556, 16.994444444444444, 14.365833333333333, 10.438611111111111, 13.595833333333333, 12.815277777777778, 12.259722222222223, 11.821944444444444, 17.052222222222223, 11.466666666666667, 13.758333333333333, 10.72, 12.19111111111111, 16.56833333333333, 16.164722222222224, 10.74388888888889, 13.656944444444445, 10.44138888888889, 12.664722222222222, 16.39361111111111, 11.605833333333333, 15.319166666666666, 16.658333333333335, 11.044444444444444, 12.074722222222222, 10.369166666666667, 14.61138888888889, 13.3475, 12.543333333333333, 17.342777777777776, 11.06611111111111, 15.975833333333334, 10.151388888888889, 13.874722222222223, 16.014166666666668, 12.403055555555556, 14.641944444444444, 13.648333333333333]}],                        {\"coloraxis\": {\"colorbar\": {\"title\": {\"text\": \"score\"}}, \"colorscale\": [[0.0, \"#0d0887\"], [0.1111111111111111, \"#46039f\"], [0.2222222222222222, \"#7201a8\"], [0.3333333333333333, \"#9c179e\"], [0.4444444444444444, \"#bd3786\"], [0.5555555555555556, \"#d8576b\"], [0.6666666666666666, \"#ed7953\"], [0.7777777777777778, \"#fb9f3a\"], [0.8888888888888888, \"#fdca26\"], [1.0, \"#f0f921\"]]}, \"legend\": {\"tracegroupgap\": 0}, \"margin\": {\"b\": 10, \"l\": 10, \"r\": 20, \"t\": 10}, \"scene\": {\"domain\": {\"x\": [0.0, 1.0], \"y\": [0.0, 1.0]}, \"xaxis\": {\"range\": [0, 25], \"title\": {\"text\": \"d0\"}}, \"yaxis\": {\"range\": [0, 25], \"title\": {\"text\": \"d1\"}}, \"zaxis\": {\"range\": [0, 25], \"title\": {\"text\": \"d2\"}}}, \"template\": {\"data\": {\"bar\": [{\"error_x\": {\"color\": \"#2a3f5f\"}, \"error_y\": {\"color\": \"#2a3f5f\"}, \"marker\": {\"line\": {\"color\": \"#E5ECF6\", \"width\": 0.5}}, \"type\": \"bar\"}], \"barpolar\": [{\"marker\": {\"line\": {\"color\": \"#E5ECF6\", \"width\": 0.5}}, \"type\": \"barpolar\"}], \"carpet\": [{\"aaxis\": {\"endlinecolor\": \"#2a3f5f\", \"gridcolor\": \"white\", \"linecolor\": \"white\", \"minorgridcolor\": \"white\", \"startlinecolor\": \"#2a3f5f\"}, \"baxis\": {\"endlinecolor\": \"#2a3f5f\", \"gridcolor\": \"white\", \"linecolor\": \"white\", \"minorgridcolor\": \"white\", \"startlinecolor\": \"#2a3f5f\"}, \"type\": \"carpet\"}], \"choropleth\": [{\"colorbar\": {\"outlinewidth\": 0, \"ticks\": \"\"}, \"type\": \"choropleth\"}], \"contour\": [{\"colorbar\": {\"outlinewidth\": 0, \"ticks\": \"\"}, \"colorscale\": [[0.0, \"#0d0887\"], [0.1111111111111111, \"#46039f\"], [0.2222222222222222, \"#7201a8\"], [0.3333333333333333, \"#9c179e\"], [0.4444444444444444, \"#bd3786\"], [0.5555555555555556, \"#d8576b\"], [0.6666666666666666, \"#ed7953\"], [0.7777777777777778, \"#fb9f3a\"], [0.8888888888888888, \"#fdca26\"], [1.0, \"#f0f921\"]], \"type\": \"contour\"}], \"contourcarpet\": [{\"colorbar\": {\"outlinewidth\": 0, \"ticks\": \"\"}, \"type\": \"contourcarpet\"}], \"heatmap\": [{\"colorbar\": {\"outlinewidth\": 0, \"ticks\": \"\"}, \"colorscale\": [[0.0, \"#0d0887\"], [0.1111111111111111, \"#46039f\"], [0.2222222222222222, \"#7201a8\"], [0.3333333333333333, \"#9c179e\"], [0.4444444444444444, \"#bd3786\"], [0.5555555555555556, \"#d8576b\"], [0.6666666666666666, \"#ed7953\"], [0.7777777777777778, \"#fb9f3a\"], [0.8888888888888888, \"#fdca26\"], [1.0, \"#f0f921\"]], \"type\": \"heatmap\"}], \"heatmapgl\": [{\"colorbar\": {\"outlinewidth\": 0, \"ticks\": \"\"}, \"colorscale\": [[0.0, \"#0d0887\"], [0.1111111111111111, \"#46039f\"], [0.2222222222222222, \"#7201a8\"], [0.3333333333333333, \"#9c179e\"], [0.4444444444444444, \"#bd3786\"], [0.5555555555555556, \"#d8576b\"], [0.6666666666666666, \"#ed7953\"], [0.7777777777777778, \"#fb9f3a\"], [0.8888888888888888, \"#fdca26\"], [1.0, \"#f0f921\"]], \"type\": \"heatmapgl\"}], \"histogram\": [{\"marker\": {\"colorbar\": {\"outlinewidth\": 0, \"ticks\": \"\"}}, \"type\": \"histogram\"}], \"histogram2d\": [{\"colorbar\": {\"outlinewidth\": 0, \"ticks\": \"\"}, \"colorscale\": [[0.0, \"#0d0887\"], [0.1111111111111111, \"#46039f\"], [0.2222222222222222, \"#7201a8\"], [0.3333333333333333, \"#9c179e\"], [0.4444444444444444, \"#bd3786\"], [0.5555555555555556, \"#d8576b\"], [0.6666666666666666, \"#ed7953\"], [0.7777777777777778, \"#fb9f3a\"], [0.8888888888888888, \"#fdca26\"], [1.0, \"#f0f921\"]], \"type\": \"histogram2d\"}], \"histogram2dcontour\": [{\"colorbar\": {\"outlinewidth\": 0, \"ticks\": \"\"}, \"colorscale\": [[0.0, \"#0d0887\"], [0.1111111111111111, \"#46039f\"], [0.2222222222222222, \"#7201a8\"], [0.3333333333333333, \"#9c179e\"], [0.4444444444444444, \"#bd3786\"], [0.5555555555555556, \"#d8576b\"], [0.6666666666666666, \"#ed7953\"], [0.7777777777777778, \"#fb9f3a\"], [0.8888888888888888, \"#fdca26\"], [1.0, \"#f0f921\"]], \"type\": \"histogram2dcontour\"}], \"mesh3d\": [{\"colorbar\": {\"outlinewidth\": 0, \"ticks\": \"\"}, \"type\": \"mesh3d\"}], \"parcoords\": [{\"line\": {\"colorbar\": {\"outlinewidth\": 0, \"ticks\": \"\"}}, \"type\": \"parcoords\"}], \"pie\": [{\"automargin\": true, \"type\": \"pie\"}], \"scatter\": [{\"marker\": {\"colorbar\": {\"outlinewidth\": 0, \"ticks\": \"\"}}, \"type\": \"scatter\"}], \"scatter3d\": [{\"line\": {\"colorbar\": {\"outlinewidth\": 0, \"ticks\": \"\"}}, \"marker\": {\"colorbar\": {\"outlinewidth\": 0, \"ticks\": \"\"}}, \"type\": \"scatter3d\"}], \"scattercarpet\": [{\"marker\": {\"colorbar\": {\"outlinewidth\": 0, \"ticks\": \"\"}}, \"type\": \"scattercarpet\"}], \"scattergeo\": [{\"marker\": {\"colorbar\": {\"outlinewidth\": 0, \"ticks\": \"\"}}, \"type\": \"scattergeo\"}], \"scattergl\": [{\"marker\": {\"colorbar\": {\"outlinewidth\": 0, \"ticks\": \"\"}}, \"type\": \"scattergl\"}], \"scattermapbox\": [{\"marker\": {\"colorbar\": {\"outlinewidth\": 0, \"ticks\": \"\"}}, \"type\": \"scattermapbox\"}], \"scatterpolar\": [{\"marker\": {\"colorbar\": {\"outlinewidth\": 0, \"ticks\": \"\"}}, \"type\": \"scatterpolar\"}], \"scatterpolargl\": [{\"marker\": {\"colorbar\": {\"outlinewidth\": 0, \"ticks\": \"\"}}, \"type\": \"scatterpolargl\"}], \"scatterternary\": [{\"marker\": {\"colorbar\": {\"outlinewidth\": 0, \"ticks\": \"\"}}, \"type\": \"scatterternary\"}], \"surface\": [{\"colorbar\": {\"outlinewidth\": 0, \"ticks\": \"\"}, \"colorscale\": [[0.0, \"#0d0887\"], [0.1111111111111111, \"#46039f\"], [0.2222222222222222, \"#7201a8\"], [0.3333333333333333, \"#9c179e\"], [0.4444444444444444, \"#bd3786\"], [0.5555555555555556, \"#d8576b\"], [0.6666666666666666, \"#ed7953\"], [0.7777777777777778, \"#fb9f3a\"], [0.8888888888888888, \"#fdca26\"], [1.0, \"#f0f921\"]], \"type\": \"surface\"}], \"table\": [{\"cells\": {\"fill\": {\"color\": \"#EBF0F8\"}, \"line\": {\"color\": \"white\"}}, \"header\": {\"fill\": {\"color\": \"#C8D4E3\"}, \"line\": {\"color\": \"white\"}}, \"type\": \"table\"}]}, \"layout\": {\"annotationdefaults\": {\"arrowcolor\": \"#2a3f5f\", \"arrowhead\": 0, \"arrowwidth\": 1}, \"coloraxis\": {\"colorbar\": {\"outlinewidth\": 0, \"ticks\": \"\"}}, \"colorscale\": {\"diverging\": [[0, \"#8e0152\"], [0.1, \"#c51b7d\"], [0.2, \"#de77ae\"], [0.3, \"#f1b6da\"], [0.4, \"#fde0ef\"], [0.5, \"#f7f7f7\"], [0.6, \"#e6f5d0\"], [0.7, \"#b8e186\"], [0.8, \"#7fbc41\"], [0.9, \"#4d9221\"], [1, \"#276419\"]], \"sequential\": [[0.0, \"#0d0887\"], [0.1111111111111111, \"#46039f\"], [0.2222222222222222, \"#7201a8\"], [0.3333333333333333, \"#9c179e\"], [0.4444444444444444, \"#bd3786\"], [0.5555555555555556, \"#d8576b\"], [0.6666666666666666, \"#ed7953\"], [0.7777777777777778, \"#fb9f3a\"], [0.8888888888888888, \"#fdca26\"], [1.0, \"#f0f921\"]], \"sequentialminus\": [[0.0, \"#0d0887\"], [0.1111111111111111, \"#46039f\"], [0.2222222222222222, \"#7201a8\"], [0.3333333333333333, \"#9c179e\"], [0.4444444444444444, \"#bd3786\"], [0.5555555555555556, \"#d8576b\"], [0.6666666666666666, \"#ed7953\"], [0.7777777777777778, \"#fb9f3a\"], [0.8888888888888888, \"#fdca26\"], [1.0, \"#f0f921\"]]}, \"colorway\": [\"#636efa\", \"#EF553B\", \"#00cc96\", \"#ab63fa\", \"#FFA15A\", \"#19d3f3\", \"#FF6692\", \"#B6E880\", \"#FF97FF\", \"#FECB52\"], \"font\": {\"color\": \"#2a3f5f\"}, \"geo\": {\"bgcolor\": \"white\", \"lakecolor\": \"white\", \"landcolor\": \"#E5ECF6\", \"showlakes\": true, \"showland\": true, \"subunitcolor\": \"white\"}, \"hoverlabel\": {\"align\": \"left\"}, \"hovermode\": \"closest\", \"mapbox\": {\"style\": \"light\"}, \"paper_bgcolor\": \"white\", \"plot_bgcolor\": \"#E5ECF6\", \"polar\": {\"angularaxis\": {\"gridcolor\": \"white\", \"linecolor\": \"white\", \"ticks\": \"\"}, \"bgcolor\": \"#E5ECF6\", \"radialaxis\": {\"gridcolor\": \"white\", \"linecolor\": \"white\", \"ticks\": \"\"}}, \"scene\": {\"xaxis\": {\"backgroundcolor\": \"#E5ECF6\", \"gridcolor\": \"white\", \"gridwidth\": 2, \"linecolor\": \"white\", \"showbackground\": true, \"ticks\": \"\", \"zerolinecolor\": \"white\"}, \"yaxis\": {\"backgroundcolor\": \"#E5ECF6\", \"gridcolor\": \"white\", \"gridwidth\": 2, \"linecolor\": \"white\", \"showbackground\": true, \"ticks\": \"\", \"zerolinecolor\": \"white\"}, \"zaxis\": {\"backgroundcolor\": \"#E5ECF6\", \"gridcolor\": \"white\", \"gridwidth\": 2, \"linecolor\": \"white\", \"showbackground\": true, \"ticks\": \"\", \"zerolinecolor\": \"white\"}}, \"shapedefaults\": {\"line\": {\"color\": \"#2a3f5f\"}}, \"ternary\": {\"aaxis\": {\"gridcolor\": \"white\", \"linecolor\": \"white\", \"ticks\": \"\"}, \"baxis\": {\"gridcolor\": \"white\", \"linecolor\": \"white\", \"ticks\": \"\"}, \"bgcolor\": \"#E5ECF6\", \"caxis\": {\"gridcolor\": \"white\", \"linecolor\": \"white\", \"ticks\": \"\"}}, \"title\": {\"x\": 0.05}, \"xaxis\": {\"automargin\": true, \"gridcolor\": \"white\", \"linecolor\": \"white\", \"ticks\": \"\", \"title\": {\"standoff\": 15}, \"zerolinecolor\": \"white\", \"zerolinewidth\": 2}, \"yaxis\": {\"automargin\": true, \"gridcolor\": \"white\", \"linecolor\": \"white\", \"ticks\": \"\", \"title\": {\"standoff\": 15}, \"zerolinecolor\": \"white\", \"zerolinewidth\": 2}}}, \"width\": 700},                        {\"responsive\": true}                    ).then(function(){\n",
       "                            \n",
       "var gd = document.getElementById('4a50293a-a45a-48f3-aeb2-ad0089ed0eda');\n",
       "var x = new MutationObserver(function (mutations, observer) {{\n",
       "        var display = window.getComputedStyle(gd).display;\n",
       "        if (!display || display === 'none') {{\n",
       "            console.log([gd, 'removed!']);\n",
       "            Plotly.purge(gd);\n",
       "            observer.disconnect();\n",
       "        }}\n",
       "}});\n",
       "\n",
       "// Listen for the removal of the full notebook cells\n",
       "var notebookContainer = gd.closest('#notebook-container');\n",
       "if (notebookContainer) {{\n",
       "    x.observe(notebookContainer, {childList: true});\n",
       "}}\n",
       "\n",
       "// Listen for the clearing of the current output cell\n",
       "var outputEl = gd.closest('.output');\n",
       "if (outputEl) {{\n",
       "    x.observe(outputEl, {childList: true});\n",
       "}}\n",
       "\n",
       "                        })                };                });            </script>        </div>"
      ]
     },
     "metadata": {},
     "output_type": "display_data"
    }
   ],
   "source": [
    "plan, log = reschedule(\n",
    "    personA.plan,\n",
    "    plans_scorer=scorer,\n",
    "    config=config['default'],\n",
    "    patience=100\n",
    "    )"
   ]
  },
  {
   "cell_type": "code",
   "execution_count": 7,
   "id": "e7ca8270",
   "metadata": {},
   "outputs": [
    {
     "data": {
      "image/png": "[encoded data removed]",
      "text/plain": [
       "<Figure size 1152x216 with 1 Axes>"
      ]
     },
     "metadata": {
      "needs_background": "light"
     },
     "output_type": "display_data"
    }
   ],
   "source": [
    "plan.plot()"
   ]
  },
  {
   "cell_type": "code",
   "execution_count": 8,
   "id": "1adc6717",
   "metadata": {},
   "outputs": [
    {
     "name": "stdout",
     "output_type": "stream",
     "text": [
      "106.32365571204551\n"
     ]
    },
    {
     "data": {
      "image/png": "[encoded data removed]",
      "text/plain": [
       "<Figure size 1152x216 with 1 Axes>"
      ]
     },
     "metadata": {
      "needs_background": "light"
     },
     "output_type": "display_data"
    }
   ],
   "source": [
    "best_score, best_plan = grid_search(\n",
    "    personA.plan, scorer, config[\"default\"], step=900\n",
    "    )\n",
    "best_plan.validate()\n",
    "print(best_score)\n",
    "best_plan.plot()"
   ]
  },
  {
   "cell_type": "code",
   "execution_count": null,
   "id": "20ca8048",
   "metadata": {},
   "outputs": [],
   "source": []
  }
 ],
 "metadata": {
  "kernelspec": {
   "display_name": "py37pam",
   "language": "python",
   "name": "py37pam"
  },
  "language_info": {
   "codemirror_mode": {
    "name": "ipython",
    "version": 3
   },
   "file_extension": ".py",
   "mimetype": "text/x-python",
   "name": "python",
   "nbconvert_exporter": "python",
   "pygments_lexer": "ipython3",
   "version": "3.7.11"
  }
 },
 "nbformat": 4,
 "nbformat_minor": 5
}
